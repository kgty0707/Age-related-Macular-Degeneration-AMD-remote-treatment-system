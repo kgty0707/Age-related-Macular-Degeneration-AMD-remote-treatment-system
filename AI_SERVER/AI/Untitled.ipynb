{
 "cells": [
  {
   "cell_type": "code",
   "execution_count": 4,
   "id": "799f0e5f",
   "metadata": {},
   "outputs": [
    {
     "ename": "AttributeError",
     "evalue": "'SamModel' object has no attribute 'segmentation_head'",
     "output_type": "error",
     "traceback": [
      "\u001b[1;31m---------------------------------------------------------------------------\u001b[0m",
      "\u001b[1;31mAttributeError\u001b[0m                            Traceback (most recent call last)",
      "Cell \u001b[1;32mIn[4], line 46\u001b[0m\n\u001b[0;32m     44\u001b[0m config \u001b[38;5;241m=\u001b[39m SamConfig\u001b[38;5;241m.\u001b[39mfrom_pretrained(\u001b[38;5;124m\"\u001b[39m\u001b[38;5;124mfacebook/sam-vit-base\u001b[39m\u001b[38;5;124m\"\u001b[39m, num_labels\u001b[38;5;241m=\u001b[39m\u001b[38;5;241m7\u001b[39m)\n\u001b[0;32m     45\u001b[0m model \u001b[38;5;241m=\u001b[39m SamModel(config)\n\u001b[1;32m---> 46\u001b[0m \u001b[43mmodel\u001b[49m\u001b[38;5;241;43m.\u001b[39;49m\u001b[43msegmentation_head\u001b[49m\u001b[38;5;241m.\u001b[39mout_channels \u001b[38;5;241m=\u001b[39m \u001b[38;5;241m7\u001b[39m  \u001b[38;5;66;03m# Modify the segmentation head\u001b[39;00m\n\u001b[0;32m     48\u001b[0m \u001b[38;5;66;03m# Loss and Optimizer\u001b[39;00m\n\u001b[0;32m     49\u001b[0m loss_fn \u001b[38;5;241m=\u001b[39m nn\u001b[38;5;241m.\u001b[39mCrossEntropyLoss()\n",
      "File \u001b[1;32m~\\anaconda3\\envs\\gpu\\lib\\site-packages\\torch\\nn\\modules\\module.py:1688\u001b[0m, in \u001b[0;36mModule.__getattr__\u001b[1;34m(self, name)\u001b[0m\n\u001b[0;32m   1686\u001b[0m     \u001b[38;5;28;01mif\u001b[39;00m name \u001b[38;5;129;01min\u001b[39;00m modules:\n\u001b[0;32m   1687\u001b[0m         \u001b[38;5;28;01mreturn\u001b[39;00m modules[name]\n\u001b[1;32m-> 1688\u001b[0m \u001b[38;5;28;01mraise\u001b[39;00m \u001b[38;5;167;01mAttributeError\u001b[39;00m(\u001b[38;5;124mf\u001b[39m\u001b[38;5;124m\"\u001b[39m\u001b[38;5;124m'\u001b[39m\u001b[38;5;132;01m{\u001b[39;00m\u001b[38;5;28mtype\u001b[39m(\u001b[38;5;28mself\u001b[39m)\u001b[38;5;241m.\u001b[39m\u001b[38;5;18m__name__\u001b[39m\u001b[38;5;132;01m}\u001b[39;00m\u001b[38;5;124m'\u001b[39m\u001b[38;5;124m object has no attribute \u001b[39m\u001b[38;5;124m'\u001b[39m\u001b[38;5;132;01m{\u001b[39;00mname\u001b[38;5;132;01m}\u001b[39;00m\u001b[38;5;124m'\u001b[39m\u001b[38;5;124m\"\u001b[39m)\n",
      "\u001b[1;31mAttributeError\u001b[0m: 'SamModel' object has no attribute 'segmentation_head'"
     ]
    }
   ],
   "source": [
    "import torch\n",
    "import torch.nn as nn\n",
    "from torch.utils.data import Dataset, DataLoader\n",
    "from torchvision import transforms\n",
    "from PIL import Image\n",
    "import numpy as np\n",
    "from transformers import SamModel, SamConfig, AdamW\n",
    "\n",
    "# Dataset class\n",
    "class SAMDataset(Dataset):\n",
    "    def __init__(self, images, masks, transform=None):\n",
    "        self.images = images\n",
    "        self.masks = masks\n",
    "        self.transform = transform\n",
    "\n",
    "    def __len__(self):\n",
    "        return len(self.images)\n",
    "\n",
    "    def __getitem__(self, idx):\n",
    "        image = Image.open(self.images[idx]) if isinstance(self.images[idx], str) else self.images[idx]\n",
    "        mask = Image.open(self.masks[idx]) if isinstance(self.masks[idx], str) else self.masks[idx]\n",
    "        \n",
    "        if self.transform:\n",
    "            image = self.transform(image)\n",
    "        \n",
    "        mask = np.array(mask)\n",
    "        mask = torch.from_numpy(mask).long()\n",
    "\n",
    "        return image, mask\n",
    "\n",
    "# Define transformations\n",
    "transform = transforms.Compose([\n",
    "    transforms.Resize((256, 256)),\n",
    "    transforms.ToTensor(),\n",
    "])\n",
    "\n",
    "# Assume image_paths and mask_paths are lists of file paths\n",
    "image_paths = ['path_to_image1.jpg', 'path_to_image2.jpg']\n",
    "mask_paths = ['path_to_mask1.png', 'path_to_mask2.png']\n",
    "dataset = SAMDataset(image_paths, mask_paths, transform=transform)\n",
    "dataloader = DataLoader(dataset, batch_size=2, shuffle=True)\n",
    "\n",
    "# Model configuration\n",
    "config = SamConfig.from_pretrained(\"facebook/sam-vit-base\", num_labels=7)\n",
    "model = SamModel(config)\n",
    "model.segmentation_head.out_channels = 7  # Modify the segmentation head\n",
    "\n",
    "# Loss and Optimizer\n",
    "loss_fn = nn.CrossEntropyLoss()\n",
    "optimizer = AdamW(model.parameters(), lr=5e-5)\n",
    "\n",
    "# Training loop\n",
    "def train(model, dataloader, loss_fn, optimizer, epochs=3):\n",
    "    model.train()\n",
    "    for epoch in range(epochs):\n",
    "        for images, masks in dataloader:\n",
    "            optimizer.zero_grad()\n",
    "            outputs = model(images).logits  # Adjust depending on the actual model output\n",
    "            loss = loss_fn(outputs, masks)\n",
    "            loss.backward()\n",
    "            optimizer.step()\n",
    "            print(f\"Epoch {epoch+1}, Loss: {loss.item()}\")\n",
    "\n",
    "# Inference\n",
    "def predict(model, image):\n",
    "    model.eval()\n",
    "    with torch.no_grad():\n",
    "        prediction = model(image).logits\n",
    "    return prediction\n",
    "\n",
    "# Train the model\n",
    "train(model, dataloader, loss_fn, optimizer)\n",
    "\n",
    "# Dummy inference example\n",
    "sample_image, _ = dataset[0]\n",
    "sample_image = sample_image.unsqueeze(0)  # Add batch dimension\n",
    "prediction = predict(model, sample_image)\n",
    "predicted_mask = torch.argmax(prediction, dim=1)  # Convert probabilities to class labels\n",
    "\n",
    "print(\"Predicted Mask Shape:\", predicted_mask.shape)"
   ]
  },
  {
   "cell_type": "code",
   "execution_count": 3,
   "id": "13429ad8",
   "metadata": {},
   "outputs": [
    {
     "name": "stdout",
     "output_type": "stream",
     "text": [
      "visit https://app.roboflow.com/auth-cli to get your authentication token.\n",
      "Paste the authentication token here: ········\n",
      "loading Roboflow workspace...\n",
      "loading Roboflow project...\n"
     ]
    },
    {
     "name": "stderr",
     "output_type": "stream",
     "text": [
      "Downloading Dataset Version Zip in MRI-BRAIN-TUMOR-1 to coco:: 100%|█████████████| 1525/1525 [00:00<00:00, 1579.86it/s]"
     ]
    },
    {
     "name": "stdout",
     "output_type": "stream",
     "text": [
      "\n"
     ]
    },
    {
     "name": "stderr",
     "output_type": "stream",
     "text": [
      "\n",
      "Extracting Dataset Version Zip to MRI-BRAIN-TUMOR-1 in coco:: 100%|██████████████████| 85/85 [00:00<00:00, 2574.59it/s]\n"
     ]
    }
   ],
   "source": [
    "import roboflow\n",
    "from roboflow import Roboflow\n",
    "\n",
    "roboflow.login()\n",
    "\n",
    "rf = Roboflow()\n",
    "\n",
    "project = rf.workspace(\"hashira-fhxpj\").project(\"mri-brain-tumor\")\n",
    "dataset = project.version(1).download(\"coco\")"
   ]
  },
  {
   "cell_type": "code",
   "execution_count": null,
   "id": "17f37560",
   "metadata": {},
   "outputs": [],
   "source": []
  }
 ],
 "metadata": {
  "kernelspec": {
   "display_name": "cuda_env",
   "language": "python",
   "name": "gpu"
  },
  "language_info": {
   "codemirror_mode": {
    "name": "ipython",
    "version": 3
   },
   "file_extension": ".py",
   "mimetype": "text/x-python",
   "name": "python",
   "nbconvert_exporter": "python",
   "pygments_lexer": "ipython3",
   "version": "3.10.14"
  }
 },
 "nbformat": 4,
 "nbformat_minor": 5
}
