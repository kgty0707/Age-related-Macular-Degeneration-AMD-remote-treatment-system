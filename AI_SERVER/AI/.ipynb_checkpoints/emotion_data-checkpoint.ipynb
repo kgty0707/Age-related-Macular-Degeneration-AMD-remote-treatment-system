{
 "cells": [
  {
   "cell_type": "code",
   "execution_count": 4,
   "id": "6cd091a7-216c-423d-aef1-8e71c31710c4",
   "metadata": {},
   "outputs": [],
   "source": [
    "import pandas as pd\n",
    "import os"
   ]
  },
  {
   "cell_type": "code",
   "execution_count": 5,
   "id": "69f23ccb-0a24-4138-b87f-31be9c79df43",
   "metadata": {},
   "outputs": [],
   "source": [
    "directory_path = './KEMDy20_v1_2/annotation'"
   ]
  },
  {
   "cell_type": "code",
   "execution_count": 11,
   "id": "75cd171c-c1d9-4dd5-a7ea-7374ffbd0c1f",
   "metadata": {},
   "outputs": [],
   "source": [
    "total_emotions = pd.Series(dtype=int)"
   ]
  },
  {
   "cell_type": "code",
   "execution_count": 12,
   "id": "f551adbd-e502-4648-86c6-6c4241c896fe",
   "metadata": {},
   "outputs": [],
   "source": [
    "for file in os.listdir(directory_path):\n",
    "    if file.endswith('.csv'):\n",
    "        file_path = os.path.join(directory_path, file)\n",
    "        df = pd.read_csv(file_path)\n",
    "        df = df.drop(df.index[0])\n",
    "        df = df.iloc[:, :8]\n",
    "        df.iloc[:, 4] = df.iloc[:, 4].str.split(';').str[0]\n",
    "        emotion_counts = df['Total Evaluation'].value_counts() \n",
    "        \n",
    "        total_emotions = total_emotions.add(emotion_counts, fill_value=0)"
   ]
  },
  {
   "cell_type": "code",
   "execution_count": 13,
   "id": "2e0915e9-8fcc-4a42-a610-54fea7897ffc",
   "metadata": {},
   "outputs": [
    {
     "name": "stdout",
     "output_type": "stream",
     "text": [
      "                    Count\n",
      "Total Evaluation         \n",
      "angry               233.0\n",
      "disgust              61.0\n",
      "fear                 43.0\n",
      "happy              1543.0\n",
      "neutral           11249.0\n",
      "sad                 121.0\n",
      "surprise            212.0\n"
     ]
    }
   ],
   "source": [
    "total_emotions_df = pd.DataFrame(total_emotions, columns=['Count'])\n",
    "print(total_emotions_df)"
   ]
  },
  {
   "cell_type": "code",
   "execution_count": null,
   "id": "5d916f4c-7f0c-4a09-810f-2823120b77dd",
   "metadata": {},
   "outputs": [],
   "source": []
  }
 ],
 "metadata": {
  "kernelspec": {
   "display_name": "cuda_env",
   "language": "python",
   "name": "gpu"
  },
  "language_info": {
   "codemirror_mode": {
    "name": "ipython",
    "version": 3
   },
   "file_extension": ".py",
   "mimetype": "text/x-python",
   "name": "python",
   "nbconvert_exporter": "python",
   "pygments_lexer": "ipython3",
   "version": "3.10.14"
  }
 },
 "nbformat": 4,
 "nbformat_minor": 5
}
