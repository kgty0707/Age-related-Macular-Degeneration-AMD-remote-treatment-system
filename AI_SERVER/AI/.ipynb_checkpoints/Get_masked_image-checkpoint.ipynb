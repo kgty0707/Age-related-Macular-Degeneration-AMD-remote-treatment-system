{
 "cells": [
  {
   "cell_type": "code",
   "execution_count": 1,
   "id": "08b06e7e",
   "metadata": {},
   "outputs": [],
   "source": [
    "import shutil\n",
    "file_name = \"./Eyeball_movement_Dataset.zip\"\n",
    "output_dir = \"./datasets/eye_image_seg_xl\"\n",
    "format = \"zip\"\n",
    "shutil.unpack_archive(file_name, output_dir, format)"
   ]
  },
  {
   "cell_type": "code",
   "execution_count": null,
   "id": "89c01b6f",
   "metadata": {},
   "outputs": [],
   "source": [
    "import os\n",
    "import glob\n",
    "import shutil\n",
    "\n",
    "def sort_png_files(source_folder, destination_folder):\n",
    "    # 폴더가 없으면 생성\n",
    "    if not os.path.exists(destination_folder):\n",
    "        os.makedirs(destination_folder)\n",
    "\n",
    "    # 소스 폴더에서 모든 png 파일을 가져옴\n",
    "    png_files = glob.glob(os.path.join(source_folder, '*.png'))\n",
    "\n",
    "    # 가져온 파일들을 정렬하여 대상 폴더로 복사\n",
    "    for png_file in sorted(png_files):\n",
    "        filename = os.path.basename(png_file)\n",
    "        shutil.copy(png_file, os.path.join(destination_folder, filename))\n",
    "\n",
    "# 소스 폴더와 대상 폴더 경로 설정\n",
    "source_folder = './datasets/eye_image_seg_xl/image_data/311'\n",
    "destination_folder = './datasets/eye_image_seg_xl/image_data/311'\n",
    "\n",
    "# 정렬 함수 호출\n",
    "sort_png_files(source_folder, destination_folder)\n"
   ]
  },
  {
   "cell_type": "code",
   "execution_count": null,
   "id": "4d79de64",
   "metadata": {},
   "outputs": [],
   "source": []
  },
  {
   "cell_type": "code",
   "execution_count": null,
   "id": "89535784",
   "metadata": {},
   "outputs": [],
   "source": []
  },
  {
   "cell_type": "code",
   "execution_count": null,
   "id": "657d56f3",
   "metadata": {},
   "outputs": [],
   "source": [
    "import xml.etree.ElementTree as ET\n",
    "import cv2\n",
    "import numpy as np\n",
    "\n",
    "def parse_xml(xml_file):\n",
    "    tree = ET.parse(xml_file)\n",
    "    root = tree.getroot()\n",
    "    images = []\n",
    "\n",
    "    for image in root.findall('image'):\n",
    "        image_data = {\n",
    "            'name': image.get('name'),\n",
    "            'width': int(image.get('width')),\n",
    "            'height': int(image.get('height')),\n",
    "            'polygons': []\n",
    "        }\n",
    "\n",
    "        for polygon in image.findall('polygon'):\n",
    "            label = polygon.get('label')\n",
    "            points = polygon.get('points')\n",
    "            points = np.array([tuple(map(float, p.split(','))) for p in points.split(';')])\n",
    "            image_data['polygons'].append({'label': label, 'points': points})\n",
    "\n",
    "        images.append(image_data)\n",
    "\n",
    "    return images\n",
    "\n",
    "def mask_image(image_path, polygons):\n",
    "    img = cv2.imread(image_path)\n",
    "    mask = np.zeros_like(img)\n",
    "\n",
    "    for polygon in polygons:\n",
    "        points = polygon['points'].astype(int)\n",
    "        cv2.fillPoly(mask, [points], (255, 255, 255))\n",
    "\n",
    "    masked_image = cv2.bitwise_and(img, mask)\n",
    "\n",
    "    return masked_image\n",
    "\n",
    "xml_file = 'your_label_data.xml'\n",
    "images_data = parse_xml(xml_file)\n",
    "\n",
    "for idx, image_data in enumerate(images_data):\n",
    "    image_path = image_data['name']\n",
    "    polygons = image_data['polygons']\n",
    "    masked_img = mask_image(image_path, polygons)\n",
    "    cv2.imwrite(f'masked_image_{idx}.png', masked_img)\n"
   ]
  },
  {
   "cell_type": "code",
   "execution_count": null,
   "id": "9e88c37c",
   "metadata": {},
   "outputs": [],
   "source": []
  },
  {
   "cell_type": "code",
   "execution_count": null,
   "id": "8ac05efb",
   "metadata": {},
   "outputs": [],
   "source": []
  },
  {
   "cell_type": "code",
   "execution_count": null,
   "id": "66c134c5",
   "metadata": {},
   "outputs": [],
   "source": []
  }
 ],
 "metadata": {
  "kernelspec": {
   "display_name": "Python 3 (ipykernel)",
   "language": "python",
   "name": "python3"
  },
  "language_info": {
   "codemirror_mode": {
    "name": "ipython",
    "version": 3
   },
   "file_extension": ".py",
   "mimetype": "text/x-python",
   "name": "python",
   "nbconvert_exporter": "python",
   "pygments_lexer": "ipython3",
   "version": "3.11.5"
  }
 },
 "nbformat": 4,
 "nbformat_minor": 5
}
