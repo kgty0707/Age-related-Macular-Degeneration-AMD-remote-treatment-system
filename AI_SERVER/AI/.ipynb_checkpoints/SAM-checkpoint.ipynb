{
 "cells": [
  {
   "cell_type": "code",
   "execution_count": 2,
   "id": "be6ceb89-783d-40f4-96c2-c5a622eebddf",
   "metadata": {},
   "outputs": [
    {
     "name": "stdout",
     "output_type": "stream",
     "text": [
      "Collecting ultralytics\n",
      "  Downloading ultralytics-8.1.42-py3-none-any.whl.metadata (40 kB)\n",
      "     ---------------------------------------- 0.0/40.4 kB ? eta -:--:--\n",
      "     ------------------- ------------------ 20.5/40.4 kB 640.0 kB/s eta 0:00:01\n",
      "     -------------------------------------- 40.4/40.4 kB 479.0 kB/s eta 0:00:00\n",
      "Requirement already satisfied: matplotlib>=3.3.0 in c:\\users\\kgty\\anaconda3\\envs\\cad\\lib\\site-packages (from ultralytics) (3.8.3)\n",
      "Requirement already satisfied: opencv-python>=4.6.0 in c:\\users\\kgty\\anaconda3\\envs\\cad\\lib\\site-packages (from ultralytics) (4.9.0.80)\n",
      "Requirement already satisfied: pillow>=7.1.2 in c:\\users\\kgty\\anaconda3\\envs\\cad\\lib\\site-packages (from ultralytics) (10.2.0)\n",
      "Requirement already satisfied: pyyaml>=5.3.1 in c:\\users\\kgty\\anaconda3\\envs\\cad\\lib\\site-packages (from ultralytics) (6.0.1)\n",
      "Requirement already satisfied: requests>=2.23.0 in c:\\users\\kgty\\anaconda3\\envs\\cad\\lib\\site-packages (from ultralytics) (2.31.0)\n",
      "Requirement already satisfied: scipy>=1.4.1 in c:\\users\\kgty\\anaconda3\\envs\\cad\\lib\\site-packages (from ultralytics) (1.12.0)\n",
      "Requirement already satisfied: torch>=1.8.0 in c:\\users\\kgty\\anaconda3\\envs\\cad\\lib\\site-packages (from ultralytics) (2.2.1)\n",
      "Requirement already satisfied: torchvision>=0.9.0 in c:\\users\\kgty\\anaconda3\\envs\\cad\\lib\\site-packages (from ultralytics) (0.17.1)\n",
      "Requirement already satisfied: tqdm>=4.64.0 in c:\\users\\kgty\\anaconda3\\envs\\cad\\lib\\site-packages (from ultralytics) (4.66.2)\n",
      "Requirement already satisfied: psutil in c:\\users\\kgty\\anaconda3\\envs\\cad\\lib\\site-packages (from ultralytics) (5.9.8)\n",
      "Collecting py-cpuinfo (from ultralytics)\n",
      "  Downloading py_cpuinfo-9.0.0-py3-none-any.whl.metadata (794 bytes)\n",
      "Collecting thop>=0.1.1 (from ultralytics)\n",
      "  Downloading thop-0.1.1.post2209072238-py3-none-any.whl.metadata (2.7 kB)\n",
      "Collecting pandas>=1.1.4 (from ultralytics)\n",
      "  Downloading pandas-2.2.1-cp39-cp39-win_amd64.whl.metadata (19 kB)\n",
      "Collecting seaborn>=0.11.0 (from ultralytics)\n",
      "  Downloading seaborn-0.13.2-py3-none-any.whl.metadata (5.4 kB)\n",
      "Requirement already satisfied: contourpy>=1.0.1 in c:\\users\\kgty\\anaconda3\\envs\\cad\\lib\\site-packages (from matplotlib>=3.3.0->ultralytics) (1.2.0)\n",
      "Requirement already satisfied: cycler>=0.10 in c:\\users\\kgty\\anaconda3\\envs\\cad\\lib\\site-packages (from matplotlib>=3.3.0->ultralytics) (0.12.1)\n",
      "Requirement already satisfied: fonttools>=4.22.0 in c:\\users\\kgty\\anaconda3\\envs\\cad\\lib\\site-packages (from matplotlib>=3.3.0->ultralytics) (4.50.0)\n",
      "Requirement already satisfied: kiwisolver>=1.3.1 in c:\\users\\kgty\\anaconda3\\envs\\cad\\lib\\site-packages (from matplotlib>=3.3.0->ultralytics) (1.4.5)\n",
      "Requirement already satisfied: numpy<2,>=1.21 in c:\\users\\kgty\\anaconda3\\envs\\cad\\lib\\site-packages (from matplotlib>=3.3.0->ultralytics) (1.26.4)\n",
      "Requirement already satisfied: packaging>=20.0 in c:\\users\\kgty\\anaconda3\\envs\\cad\\lib\\site-packages (from matplotlib>=3.3.0->ultralytics) (24.0)\n",
      "Requirement already satisfied: pyparsing>=2.3.1 in c:\\users\\kgty\\anaconda3\\envs\\cad\\lib\\site-packages (from matplotlib>=3.3.0->ultralytics) (3.1.2)\n",
      "Requirement already satisfied: python-dateutil>=2.7 in c:\\users\\kgty\\anaconda3\\envs\\cad\\lib\\site-packages (from matplotlib>=3.3.0->ultralytics) (2.9.0.post0)\n",
      "Requirement already satisfied: importlib-resources>=3.2.0 in c:\\users\\kgty\\anaconda3\\envs\\cad\\lib\\site-packages (from matplotlib>=3.3.0->ultralytics) (6.4.0)\n",
      "Collecting pytz>=2020.1 (from pandas>=1.1.4->ultralytics)\n",
      "  Downloading pytz-2024.1-py2.py3-none-any.whl.metadata (22 kB)\n",
      "Collecting tzdata>=2022.7 (from pandas>=1.1.4->ultralytics)\n",
      "  Downloading tzdata-2024.1-py2.py3-none-any.whl.metadata (1.4 kB)\n",
      "Requirement already satisfied: charset-normalizer<4,>=2 in c:\\users\\kgty\\anaconda3\\envs\\cad\\lib\\site-packages (from requests>=2.23.0->ultralytics) (2.0.4)\n",
      "Requirement already satisfied: idna<4,>=2.5 in c:\\users\\kgty\\anaconda3\\envs\\cad\\lib\\site-packages (from requests>=2.23.0->ultralytics) (3.4)\n",
      "Requirement already satisfied: urllib3<3,>=1.21.1 in c:\\users\\kgty\\anaconda3\\envs\\cad\\lib\\site-packages (from requests>=2.23.0->ultralytics) (2.1.0)\n",
      "Requirement already satisfied: certifi>=2017.4.17 in c:\\users\\kgty\\anaconda3\\envs\\cad\\lib\\site-packages (from requests>=2.23.0->ultralytics) (2024.2.2)\n",
      "Requirement already satisfied: filelock in c:\\users\\kgty\\anaconda3\\envs\\cad\\lib\\site-packages (from torch>=1.8.0->ultralytics) (3.13.1)\n",
      "Requirement already satisfied: typing-extensions>=4.8.0 in c:\\users\\kgty\\anaconda3\\envs\\cad\\lib\\site-packages (from torch>=1.8.0->ultralytics) (4.9.0)\n",
      "Requirement already satisfied: sympy in c:\\users\\kgty\\anaconda3\\envs\\cad\\lib\\site-packages (from torch>=1.8.0->ultralytics) (1.12)\n",
      "Requirement already satisfied: networkx in c:\\users\\kgty\\anaconda3\\envs\\cad\\lib\\site-packages (from torch>=1.8.0->ultralytics) (3.1)\n",
      "Requirement already satisfied: jinja2 in c:\\users\\kgty\\anaconda3\\envs\\cad\\lib\\site-packages (from torch>=1.8.0->ultralytics) (3.1.3)\n",
      "Requirement already satisfied: fsspec in c:\\users\\kgty\\anaconda3\\envs\\cad\\lib\\site-packages (from torch>=1.8.0->ultralytics) (2024.3.1)\n",
      "Requirement already satisfied: colorama in c:\\users\\kgty\\anaconda3\\envs\\cad\\lib\\site-packages (from tqdm>=4.64.0->ultralytics) (0.4.6)\n",
      "Requirement already satisfied: zipp>=3.1.0 in c:\\users\\kgty\\anaconda3\\envs\\cad\\lib\\site-packages (from importlib-resources>=3.2.0->matplotlib>=3.3.0->ultralytics) (3.18.1)\n",
      "Requirement already satisfied: six>=1.5 in c:\\users\\kgty\\anaconda3\\envs\\cad\\lib\\site-packages (from python-dateutil>=2.7->matplotlib>=3.3.0->ultralytics) (1.16.0)\n",
      "Requirement already satisfied: MarkupSafe>=2.0 in c:\\users\\kgty\\anaconda3\\envs\\cad\\lib\\site-packages (from jinja2->torch>=1.8.0->ultralytics) (2.1.3)\n",
      "Requirement already satisfied: mpmath>=0.19 in c:\\users\\kgty\\anaconda3\\envs\\cad\\lib\\site-packages (from sympy->torch>=1.8.0->ultralytics) (1.3.0)\n",
      "Downloading ultralytics-8.1.42-py3-none-any.whl (749 kB)\n",
      "   ---------------------------------------- 0.0/749.1 kB ? eta -:--:--\n",
      "   ------- -------------------------------- 143.4/749.1 kB 4.2 MB/s eta 0:00:01\n",
      "   ------------------ --------------------- 337.9/749.1 kB 3.5 MB/s eta 0:00:01\n",
      "   ---------------------------------- ----- 645.1/749.1 kB 5.1 MB/s eta 0:00:01\n",
      "   ---------------------------------------- 749.1/749.1 kB 4.7 MB/s eta 0:00:00\n",
      "Downloading pandas-2.2.1-cp39-cp39-win_amd64.whl (11.6 MB)\n",
      "   ---------------------------------------- 0.0/11.6 MB ? eta -:--:--\n",
      "    --------------------------------------- 0.2/11.6 MB 7.4 MB/s eta 0:00:02\n",
      "   - -------------------------------------- 0.6/11.6 MB 7.0 MB/s eta 0:00:02\n",
      "   --- ------------------------------------ 1.1/11.6 MB 8.6 MB/s eta 0:00:02\n",
      "   ----- ---------------------------------- 1.6/11.6 MB 9.3 MB/s eta 0:00:02\n",
      "   -------- ------------------------------- 2.4/11.6 MB 10.8 MB/s eta 0:00:01\n",
      "   ---------- ----------------------------- 3.1/11.6 MB 11.8 MB/s eta 0:00:01\n",
      "   ------------ --------------------------- 3.8/11.6 MB 12.0 MB/s eta 0:00:01\n",
      "   --------------- ------------------------ 4.5/11.6 MB 12.5 MB/s eta 0:00:01\n",
      "   ----------------- ---------------------- 5.2/11.6 MB 12.8 MB/s eta 0:00:01\n",
      "   -------------------- ------------------- 6.0/11.6 MB 13.2 MB/s eta 0:00:01\n",
      "   ----------------------- ---------------- 6.9/11.6 MB 14.1 MB/s eta 0:00:01\n",
      "   -------------------------- ------------- 7.7/11.6 MB 14.5 MB/s eta 0:00:01\n",
      "   ----------------------------- ---------- 8.7/11.6 MB 15.0 MB/s eta 0:00:01\n",
      "   -------------------------------- ------- 9.5/11.6 MB 15.2 MB/s eta 0:00:01\n",
      "   ------------------------------------ --- 10.5/11.6 MB 16.4 MB/s eta 0:00:01\n",
      "   ---------------------------------------  11.5/11.6 MB 18.2 MB/s eta 0:00:01\n",
      "   ---------------------------------------- 11.6/11.6 MB 16.8 MB/s eta 0:00:00\n",
      "Downloading seaborn-0.13.2-py3-none-any.whl (294 kB)\n",
      "   ---------------------------------------- 0.0/294.9 kB ? eta -:--:--\n",
      "   --------------------------------------- 294.9/294.9 kB 17.8 MB/s eta 0:00:00\n",
      "Downloading thop-0.1.1.post2209072238-py3-none-any.whl (15 kB)\n",
      "Downloading py_cpuinfo-9.0.0-py3-none-any.whl (22 kB)\n",
      "Downloading pytz-2024.1-py2.py3-none-any.whl (505 kB)\n",
      "   ---------------------------------------- 0.0/505.5 kB ? eta -:--:--\n",
      "   --------------------------------------- 505.5/505.5 kB 15.5 MB/s eta 0:00:00\n",
      "Downloading tzdata-2024.1-py2.py3-none-any.whl (345 kB)\n",
      "   ---------------------------------------- 0.0/345.4 kB ? eta -:--:--\n",
      "   --------------------------------------- 345.4/345.4 kB 10.8 MB/s eta 0:00:00\n",
      "Installing collected packages: pytz, py-cpuinfo, tzdata, pandas, thop, seaborn, ultralytics\n",
      "Successfully installed pandas-2.2.1 py-cpuinfo-9.0.0 pytz-2024.1 seaborn-0.13.2 thop-0.1.1.post2209072238 tzdata-2024.1 ultralytics-8.1.42\n",
      "Note: you may need to restart the kernel to use updated packages.\n"
     ]
    }
   ],
   "source": [
    "pip install ultralytics"
   ]
  },
  {
   "cell_type": "code",
   "execution_count": 7,
   "id": "28aecd93-990f-459d-8f0d-a7ac295c279a",
   "metadata": {},
   "outputs": [
    {
     "name": "stdout",
     "output_type": "stream",
     "text": [
      "Thu Apr  4 13:00:09 2024       \n",
      "+-----------------------------------------------------------------------------+\n",
      "| NVIDIA-SMI 516.94       Driver Version: 516.94       CUDA Version: 11.7     |\n",
      "|-------------------------------+----------------------+----------------------+\n",
      "| GPU  Name            TCC/WDDM | Bus-Id        Disp.A | Volatile Uncorr. ECC |\n",
      "| Fan  Temp  Perf  Pwr:Usage/Cap|         Memory-Usage | GPU-Util  Compute M. |\n",
      "|                               |                      |               MIG M. |\n",
      "|===============================+======================+======================|\n",
      "|   0  NVIDIA GeForce ... WDDM  | 00000000:01:00.0  On |                  N/A |\n",
      "|  0%   36C    P8    18W / 180W |   2170MiB / 12288MiB |      0%      Default |\n",
      "|                               |                      |                  N/A |\n",
      "+-------------------------------+----------------------+----------------------+\n",
      "                                                                               \n",
      "+-----------------------------------------------------------------------------+\n",
      "| Processes:                                                                  |\n",
      "|  GPU   GI   CI        PID   Type   Process name                  GPU Memory |\n",
      "|        ID   ID                                                   Usage      |\n",
      "|=============================================================================|\n",
      "|    0   N/A  N/A      6380    C+G   ...oft OneDrive\\OneDrive.exe    N/A      |\n",
      "|    0   N/A  N/A      7328    C+G   ...icrosoft VS Code\\Code.exe    N/A      |\n",
      "|    0   N/A  N/A      8988    C+G   C:\\Windows\\explorer.exe         N/A      |\n",
      "|    0   N/A  N/A     10168    C+G   ...n1h2txyewy\\SearchHost.exe    N/A      |\n",
      "|    0   N/A  N/A     10192    C+G   ...artMenuExperienceHost.exe    N/A      |\n",
      "|    0   N/A  N/A     10220    C+G   ...8bbwe\\Microsoft.Notes.exe    N/A      |\n",
      "|    0   N/A  N/A     11624    C+G   ...y\\ShellExperienceHost.exe    N/A      |\n",
      "|    0   N/A  N/A     12320    C+G   ...2txyewy\\TextInputHost.exe    N/A      |\n",
      "|    0   N/A  N/A     14096    C+G   ...e\\PhoneExperienceHost.exe    N/A      |\n",
      "|    0   N/A  N/A     15976    C+G   ...me\\Application\\chrome.exe    N/A      |\n",
      "|    0   N/A  N/A     17272    C+G   ...in7x64\\steamwebhelper.exe    N/A      |\n",
      "|    0   N/A  N/A     18204    C+G   ...ack\\app-4.37.98\\slack.exe    N/A      |\n",
      "|    0   N/A  N/A     19196    C+G   ...420.65\\msedgewebview2.exe    N/A      |\n",
      "|    0   N/A  N/A     20068    C+G   ...420.65\\msedgewebview2.exe    N/A      |\n",
      "|    0   N/A  N/A     20368    C+G   ...lPanel\\SystemSettings.exe    N/A      |\n",
      "|    0   N/A  N/A     32888    C+G   ...8bbwe\\WindowsTerminal.exe    N/A      |\n",
      "|    0   N/A  N/A     33584    C+G   ...420.65\\msedgewebview2.exe    N/A      |\n",
      "|    0   N/A  N/A     64784    C+G   ...oot\\Office16\\POWERPNT.EXE    N/A      |\n",
      "|    0   N/A  N/A     79940    C+G   ...root\\Office16\\WINWORD.EXE    N/A      |\n",
      "|    0   N/A  N/A     85084    C+G   ...cw5n1h2txyewy\\LockApp.exe    N/A      |\n",
      "|    0   N/A  N/A    104332    C+G   ...s\\Unity Hub\\Unity Hub.exe    N/A      |\n",
      "|    0   N/A  N/A    134248    C+G   ...ge\\Application\\msedge.exe    N/A      |\n",
      "+-----------------------------------------------------------------------------+\n"
     ]
    }
   ],
   "source": [
    "!nvidia-smi"
   ]
  },
  {
   "cell_type": "code",
   "execution_count": 3,
   "id": "e13dded1-2008-4fad-a549-111ff92c22e6",
   "metadata": {},
   "outputs": [],
   "source": [
    "from ultralytics import SAM"
   ]
  },
  {
   "cell_type": "code",
   "execution_count": 4,
   "id": "60eb857b-e659-4a17-8a75-c823cab868bf",
   "metadata": {},
   "outputs": [
    {
     "name": "stdout",
     "output_type": "stream",
     "text": [
      "Downloading https://github.com/ultralytics/assets/releases/download/v8.1.0/sam_b.pt to 'sam_b.pt'...\n"
     ]
    },
    {
     "name": "stderr",
     "output_type": "stream",
     "text": [
      "100%|███████████████████████████████████████████████████████████████████████████████| 358M/358M [00:10<00:00, 35.7MB/s]\n"
     ]
    }
   ],
   "source": [
    "model = SAM('sam_b.pt')"
   ]
  },
  {
   "cell_type": "code",
   "execution_count": 5,
   "id": "7f504286-6940-47b1-b538-923ca8f77b4b",
   "metadata": {},
   "outputs": [
    {
     "name": "stdout",
     "output_type": "stream",
     "text": [
      "Model summary: 238 layers, 93735472 parameters, 93735472 gradients\n"
     ]
    },
    {
     "data": {
      "text/plain": [
       "(238, 93735472, 93735472, 0.0)"
      ]
     },
     "execution_count": 5,
     "metadata": {},
     "output_type": "execute_result"
    }
   ],
   "source": [
    "model.info()"
   ]
  },
  {
   "cell_type": "code",
   "execution_count": 13,
   "id": "045ad168-9c26-428f-86ee-282e592948d2",
   "metadata": {},
   "outputs": [],
   "source": [
    "# TODO\n",
    "# 1. 데이터 셋 폴더 구조 구축\n",
    "# 2. 데이터 라벨링 데이터 확인\n",
    "# 3. 원천 데이터 이미지 확인\n",
    "# 4. 모델 학습 및 SAM 하이퍼 파라미터 조정\n",
    "# 5. 모델 평가"
   ]
  },
  {
   "cell_type": "code",
   "execution_count": null,
   "id": "acbc9a32-2010-4831-8df4-7295d35f1849",
   "metadata": {},
   "outputs": [],
   "source": [
    "import shutil\n",
    "file_name = \"ss_aney_btwg3ny_mn_seh_ss.v3i.png-mask-semantic.zip\"\n",
    "output_dir = \"./dataset/eye_image_seg\"\n",
    "format = \"zip\"\n",
    "shutil.unpack_archive(file_name, output_dir, format)"
   ]
  }
 ],
 "metadata": {
  "kernelspec": {
   "display_name": "cad",
   "language": "python",
   "name": "cad"
  },
  "language_info": {
   "codemirror_mode": {
    "name": "ipython",
    "version": 3
   },
   "file_extension": ".py",
   "mimetype": "text/x-python",
   "name": "python",
   "nbconvert_exporter": "python",
   "pygments_lexer": "ipython3",
   "version": "3.9.19"
  }
 },
 "nbformat": 4,
 "nbformat_minor": 5
}
