{
 "cells": [
  {
   "cell_type": "code",
   "execution_count": null,
   "id": "a94fd770-14c9-4459-bacb-c9a79a2e77ab",
   "metadata": {},
   "outputs": [],
   "source": []
  },
  {
   "cell_type": "code",
   "execution_count": null,
   "id": "45f67a50-72d7-4034-bdd2-d4213eabfebb",
   "metadata": {},
   "outputs": [],
   "source": []
  },
  {
   "cell_type": "code",
   "execution_count": null,
   "id": "689fa62b-89d2-4a0a-8cf9-0de9f2f43e12",
   "metadata": {},
   "outputs": [],
   "source": []
  },
  {
   "cell_type": "code",
   "execution_count": null,
   "id": "6469d83e-ffe1-49df-9b59-b1963e923efa",
   "metadata": {},
   "outputs": [],
   "source": []
  },
  {
   "cell_type": "code",
   "execution_count": null,
   "id": "3183359f-4677-4810-84fb-788b6eaf1944",
   "metadata": {},
   "outputs": [],
   "source": []
  },
  {
   "cell_type": "code",
   "execution_count": null,
   "id": "e7a6f444-586a-43ef-bfb4-27e8af553ef8",
   "metadata": {},
   "outputs": [],
   "source": []
  },
  {
   "cell_type": "code",
   "execution_count": 1,
   "id": "343b359b-8ec5-45fb-ba85-009593bd9eb1",
   "metadata": {},
   "outputs": [],
   "source": [
    "import pandas as pd\n",
    "import os"
   ]
  },
  {
   "cell_type": "code",
   "execution_count": null,
   "id": "b5638b6a-34b7-4db1-8653-9811aab025e9",
   "metadata": {},
   "outputs": [],
   "source": [
    "def clean_kr_text(text):\n",
    "    # 한국어 외 문자 제거\n",
    "    text = re.sub(r\"[^가-힣\\s]\", \"\", text)\n",
    "    # 연속된 공백 제거\n",
    "    text = re.sub(r'\\s+', ' ', text)\n",
    "    # 앞뒤 공백 제거\n",
    "    text = text.strip()\n",
    "    return text"
   ]
  },
  {
   "cell_type": "code",
   "execution_count": null,
   "id": "0911876c-49ea-485c-9a72-0e9c093ed76f",
   "metadata": {},
   "outputs": [],
   "source": [
    "def clean_en_data(s):\n",
    "    s = str(s)\n",
    "    s = re.sub('\\s\\W',' ',s)\n",
    "    s = re.sub('\\W,\\s',' ',s)\n",
    "    s = re.sub(\"\\d+\", \"\", s)\n",
    "    s = re.sub('\\s+',' ',s)\n",
    "    s = re.sub('[!@#$_]', '', s)\n",
    "    s = s.replace(\"co\",\"\")\n",
    "    s = s.replace(\"https\",\"\")\n",
    "    s = s.replace(\"[\\w*\",\" \")\n",
    "    return s"
   ]
  },
  {
   "cell_type": "code",
   "execution_count": null,
   "id": "48e2eaa4-d6bb-41e2-b0b2-9ce2acbaece3",
   "metadata": {},
   "outputs": [],
   "source": [
    "directory = 'path/to/your/excel/files'  # Excel 파일이 있는 폴더 경로\n",
    "output_file = 'output.txt'  # 출력 파일명"
   ]
  },
  {
   "cell_type": "code",
   "execution_count": null,
   "id": "396b1458-0ac6-44f7-9304-8658b5dbf994",
   "metadata": {},
   "outputs": [],
   "source": [
    "with open(output_file, 'w', encoding='utf-8') as f:\n",
    "    # 디렉토리의 모든 파일 확인\n",
    "    for filename in os.listdir(directory):\n",
    "        if filename.endswith('.xlsx') or filename.endswith('.xls'):\n",
    "            # 파일 경로 구성\n",
    "            file_path = os.path.join(directory, filename)\n",
    "            # Excel 파일 읽기\n",
    "            df = pd.read_excel(file_path)\n",
    "            for idx, item in df.iterrows():\n",
    "                kr_data = clean_kr_text(item[\"원문\"])\n",
    "                en_data = clean_en_data(item[\"번역문\"])\n",
    "              text_data.write(f\"{kr_data}|||{en_data}\")\n",
    "            # 데이터를 텍스트 파일에 쓰기\n",
    "            for index, row in df.iterrows():\n",
    "                f.write(' '.join(str(x) for x in row) + '\\n')"
   ]
  },
  {
   "cell_type": "code",
   "execution_count": null,
   "id": "e2d87938-1414-4fcc-bb53-ec71b97111cc",
   "metadata": {},
   "outputs": [],
   "source": []
  },
  {
   "cell_type": "code",
   "execution_count": null,
   "id": "d6fa11b7-f5d8-46e1-ad83-0c085e935a46",
   "metadata": {},
   "outputs": [],
   "source": []
  },
  {
   "cell_type": "code",
   "execution_count": null,
   "id": "cd47c156-2587-4cc8-bc37-cc6096ece5e6",
   "metadata": {},
   "outputs": [],
   "source": []
  },
  {
   "cell_type": "code",
   "execution_count": null,
   "id": "9d840ad5-917a-49c3-b444-0a5402f85e50",
   "metadata": {},
   "outputs": [],
   "source": []
  },
  {
   "cell_type": "code",
   "execution_count": null,
   "id": "9b1cb2d4-8497-419b-bd8b-fcb9d0c1002f",
   "metadata": {},
   "outputs": [],
   "source": []
  },
  {
   "cell_type": "code",
   "execution_count": null,
   "id": "0fe32f9e-091d-417b-919e-30a6f9026c1d",
   "metadata": {},
   "outputs": [],
   "source": []
  },
  {
   "cell_type": "code",
   "execution_count": null,
   "id": "b4574e73-100c-44ec-8598-0eb43a2a555b",
   "metadata": {},
   "outputs": [],
   "source": []
  },
  {
   "cell_type": "code",
   "execution_count": null,
   "id": "7952c7f7-4f92-432a-b8c0-8dc26ff86e51",
   "metadata": {},
   "outputs": [],
   "source": []
  },
  {
   "cell_type": "code",
   "execution_count": null,
   "id": "7e111182-6f57-438c-93c9-3f59f4498b03",
   "metadata": {},
   "outputs": [],
   "source": []
  },
  {
   "cell_type": "code",
   "execution_count": null,
   "id": "62e275a1-280a-4139-87cc-d5f55ede9f4a",
   "metadata": {},
   "outputs": [],
   "source": []
  }
 ],
 "metadata": {
  "kernelspec": {
   "display_name": "cuda_env",
   "language": "python",
   "name": "gpu"
  },
  "language_info": {
   "codemirror_mode": {
    "name": "ipython",
    "version": 3
   },
   "file_extension": ".py",
   "mimetype": "text/x-python",
   "name": "python",
   "nbconvert_exporter": "python",
   "pygments_lexer": "ipython3",
   "version": "3.10.14"
  }
 },
 "nbformat": 4,
 "nbformat_minor": 5
}
