{
 "cells": [
  {
   "cell_type": "markdown",
   "metadata": {},
   "source": [
    "# ***Generation and Rendering of A Scalable 3D Ocular Model for VR-based Eye Medical Simulation***"
   ]
  },
  {
   "cell_type": "markdown",
   "metadata": {},
   "source": [
    "***가상현실 기반 안과 의료 시뮬레이션을 위한 Scalable 3D 환자 안구 모델의 생성 및 렌더링***"
   ]
  },
  {
   "cell_type": "markdown",
   "metadata": {},
   "source": [
    "---"
   ]
  },
  {
   "cell_type": "markdown",
   "metadata": {},
   "source": [
    "**[박혜민](phm0707@hanyang.ac.kr)**\n",
    "- **역할**: VR 환경 구현, AI\n",
    "\n",
    "**[서민주](smj0324@hanyang.ac.kr)**\n",
    "- **역할**: Force feedback, 통합\n"
   ]
  },
  {
   "cell_type": "markdown",
   "metadata": {},
   "source": [
    "---"
   ]
  },
  {
   "cell_type": "markdown",
   "metadata": {},
   "source": [
    "## 🛠️ **기술문서**"
   ]
  },
  {
   "cell_type": "markdown",
   "metadata": {},
   "source": [
    "## **프로젝트 분석 및 설계**"
   ]
  },
  {
   "cell_type": "markdown",
   "metadata": {},
   "source": [
    "### **1. 개발 시스템의 목표**"
   ]
  },
  {
   "attachments": {},
   "cell_type": "markdown",
   "metadata": {},
   "source": [
    "<div style=\"text-align: center;\">\n",
    "    <img src=\"./image/image (3).png\" alt=\"시스템 구성도\" style=\"width: 800px;\"/>\n",
    "    <p style=\"text-align: center;\"><em>Figure 1: Development system goals</em></p>\n",
    "</div>"
   ]
  },
  {
   "cell_type": "markdown",
   "metadata": {},
   "source": [
    "#### **최종목표**"
   ]
  },
  {
   "cell_type": "markdown",
   "metadata": {},
   "source": [
    "황반변성 치료를 위한 가상 현실(VR) 플랫폼을 위한 시각적 데이터 수집과 처리 기술 개발"
   ]
  },
  {
   "cell_type": "markdown",
   "metadata": {},
   "source": [
    "> 황반변성은 주로 고령층에서 발생하는 질병으로, 황반변성 환자들에게 위험성이 낮은 효과적인 치료와 의료 시뮬레이션 서비스를 제공하여 건강 상태를 지속적으로 모니터링하고 관리함으로써, 건강한 시력 유지에 기여"
   ]
  },
  {
   "cell_type": "markdown",
   "metadata": {},
   "source": [
    "#### **세부목표**\n",
    "- Force Feedback을 통한 가상환경 황반변성 안구 치료 시나리오 설정\n",
    "- Haply를 이용한 Force Feedback 알고리즘 개발\n",
    "- 환자의 2D 안구 이미지를 3D로 모델링한 안구에 동공 및 안구 위치 마스킹\n",
    "- 안구 이미지 촬영 및 수집 시스템 개발\n",
    "- Unity 플랫폼에서 안구 스케일 조절을 위한 인터페이스 및 알고리즘 개발\n",
    "- Force Feedback 기반의 의료 시뮬레이션 몰입감 테스트\n",
    "- 가상환경에서의 황반변성 안구 의료 시술 주사 정확도 평가 테스트"
   ]
  },
  {
   "cell_type": "markdown",
   "metadata": {},
   "source": [
    "### **2. 시스템 설계**"
   ]
  },
  {
   "cell_type": "markdown",
   "metadata": {},
   "source": [
    "<div style=\"text-align: center;\">\n",
    "    <img src=\"./image/image (1).png\" alt=\"시퀀스 다이어그램\" style=\"width: 700px;\"/>\n",
    "    <p style=\"text-align: center;\"><em>Figure 2: Sequence Diagram</em></p>\n",
    "</div>"
   ]
  },
  {
   "cell_type": "markdown",
   "metadata": {},
   "source": [
    "#### **2.1 REST API**"
   ]
  },
  {
   "cell_type": "markdown",
   "metadata": {},
   "source": [
    "- **시스템**: Unity\n",
    "  - **메서드**: POST\n",
    "  - **경로**: ```/extract_position```\n",
    "  - **데이터**: DATA: str, int\n",
    "  - **설명**: 환자 이름, 연구 이미지, 연구 마스킹 이미지, 연구 크기 등의 데이터 요청 및 반환\n",
    "<br><br>\n",
    "- **시스템**: Fast API\n",
    "  - **메서드**: GET\n",
    "  - **경로**: ```/```\n",
    "  - **데이터**: DATA: str, int\n",
    "  - **설명**: 웹에서 모든 데이터 json형식으로 반환\n",
    "<br><br>\n",
    "- **시스템**: Fast API\n",
    "  - **메서드**: GET\n",
    "  - **경로**: ```/main```\n",
    "  - **데이터**: -\n",
    "  - **설명**: 메인 화면 UI, 연구 진단 웹 서비스\n"
   ]
  },
  {
   "cell_type": "markdown",
   "metadata": {},
   "source": [
    "#### **2.2 사용자 인터페이스**"
   ]
  },
  {
   "cell_type": "markdown",
   "metadata": {},
   "source": [
    "<div style=\"text-align: center;\">\n",
    "    <img src=\"./image/image (2).png\" alt=\"WEB Interface\" style=\"width: 400px;\"/>\n",
    "    <p style=\"text-align: center;\"><em>Figure 4: Web UI</em></p>\n",
    "</div>"
   ]
  },
  {
   "cell_type": "markdown",
   "metadata": {},
   "source": [
    ">이 웹 애플리케이션은 안과 진단 웹 서비스로 환자 정보를 관리하고 표시합니다.<br>\n",
    "환자 기본 정보와 의료 history를 테이블 형식으로 보여주고, 다양한 안구 질병 진단 옵션과 증상 및 처방 입력 기능을 제공합니다.<br>\n",
    "환자 사진과 히스토리 이미지를 포함하며, 입력된 정보를 저장하여 향후 데이터베이스를 활용하여 응용 서비스를 개발할 수 있습니다."
   ]
  },
  {
   "cell_type": "markdown",
   "metadata": {},
   "source": [
    "### **3. 데이터베이스 요구사항**"
   ]
  },
  {
   "cell_type": "markdown",
   "metadata": {},
   "source": [
    "#### **3.1 테이블 목록 - 고객 안구 이미지 테이블(result_table)**"
   ]
  },
  {
   "cell_type": "markdown",
   "metadata": {},
   "source": [
    "<div style=\"text-align: center;\">\n",
    "    <img src=\"./image/image (5).png\" alt=\"DB Diagram\" style=\"width: 200px;\"/>\n",
    "    <p style=\"text-align: center;\"><em>Figure 5: DB Diagram</em></p>\n",
    "</div>"
   ]
  },
  {
   "attachments": {},
   "cell_type": "markdown",
   "metadata": {},
   "source": [
    "\n",
    "\n",
    "#### **3.2 테이블 기술 - 고객 안구 이미지 테이블(result_table)**\n",
    "<br>\n",
    "<table style=\"width:auto;\">\n",
    "  <tr>\n",
    "    <th style=\"text-align:left;\">테이블 컬럼</th>\n",
    "    <th style=\"text-align:left;\">Datatype</th>\n",
    "    <th style=\"text-align:left;\">설명</th>\n",
    "  </tr>\n",
    "  <tr>\n",
    "    <td style=\"text-align:left;\">result_idx</td>\n",
    "    <td style=\"text-align:left;\">INT</td>\n",
    "    <td style=\"text-align:left;\">PK, NN, AI 테이블 행 인덱스</td>\n",
    "  </tr>\n",
    "  <tr>\n",
    "    <td style=\"text-align:left;\">user_name</td>\n",
    "    <td style=\"text-align:left;\">VARCHAR(64)</td>\n",
    "    <td style=\"text-align:left;\">NN 환자 이름</td>\n",
    "  </tr>\n",
    "  <tr>\n",
    "    <td style=\"text-align:left;\">ori_image_path</td>\n",
    "    <td style=\"text-align:left;\">VARCHAR(512)</td>\n",
    "    <td style=\"text-align:left;\">NN 환자 안구 이미지 경로</td>\n",
    "  </tr>\n",
    "  <tr>\n",
    "    <td style=\"text-align:left;\">mask_image_path</td>\n",
    "    <td style=\"text-align:left;\">VARCHAR(512)</td>\n",
    "    <td style=\"text-align:left;\">NN 환자 안구 마스킹 이미지 경로</td>\n",
    "  </tr>\n",
    "  <tr>\n",
    "    <td style=\"text-align:left;\">sclera_x</td>\n",
    "    <td style=\"text-align:left;\">VARCHAR(45)</td>\n",
    "    <td style=\"text-align:left;\">- 공막의 X좌표</td>\n",
    "  </tr>\n",
    "  <tr>\n",
    "    <td style=\"text-align:left;\">sclera_y</td>\n",
    "    <td style=\"text-align:left;\">VARCHAR(45)</td>\n",
    "    <td style=\"text-align:left;\">- 공막의 Y좌표</td>\n",
    "  </tr>\n",
    "  <tr>\n",
    "    <td style=\"text-align:left;\">cornea_x</td>\n",
    "    <td style=\"text-align:left;\">VARCHAR(45)</td>\n",
    "    <td style=\"text-align:left;\">- 각막의 X좌표</td>\n",
    "  </tr>\n",
    "  <tr>\n",
    "    <td style=\"text-align:left;\">cornea_y</td>\n",
    "    <td style=\"text-align:left;\">VARCHAR(45)</td>\n",
    "    <td style=\"text-align:left;\">- 각막의 Y좌표</td>\n",
    "  </tr>\n",
    "  <tr>\n",
    "    <td style=\"text-align:left;\">created_dt</td>\n",
    "    <td style=\"text-align:left;\">DATETIME</td>\n",
    "    <td style=\"text-align:left;\">NN 데이터 삽입 시간</td>\n",
    "  </tr>\n",
    "</table>\n"
   ]
  },
  {
   "cell_type": "markdown",
   "metadata": {},
   "source": [
    "---"
   ]
  },
  {
   "cell_type": "markdown",
   "metadata": {},
   "source": [
    "## 🧷**함수 및 클래스**"
   ]
  },
  {
   "cell_type": "markdown",
   "metadata": {},
   "source": [
    "link를 누르면 해당 GitHub page로 이동합니다."
   ]
  },
  {
   "cell_type": "markdown",
   "metadata": {},
   "source": [
    " #### **Data preprocessing & Model training**\n",
    "- YOLOv8 [link](https://github.com/kgty0707/Age-related-Macular-Degeneration-AMD-remote-treatment-system/blob/main/AI_SERVER/AI/YOLO8.ipynb)\n",
    "\n",
    "- SAM\n",
    "<br> ```Data preprocessing``` [link](https://github.com/kgty0707/Age-related-Macular-Degeneration-AMD-remote-treatment-system/blob/main/AI_SERVER/AI/SAM_MASK_inferebce.ipynb)\n",
    "<br> ```Model training``` [link](https://github.com/kgty0707/Age-related-Macular-Degeneration-AMD-remote-treatment-system/blob/main/AI_SERVER/AI/SAM_training.ipynb)\n",
    "\n",
    "\n",
    "<br>\n",
    "\n",
    "#### **Model Inference & Return result**\n",
    "\n",
    "```import_image()``` [link](https://github.com/kgty0707/Age-related-Macular-Degeneration-AMD-remote-treatment-system/blob/main/AI_SERVER/app.py)\n",
    "<br>\n",
    "주어진 파일 경로에서 사용자 이름을 추출하고, 이미지 분할 결과를 생성한 후, 이를 기반으로 데이터베이스에 저장할 결과 객체를 생성합니다.\n",
    "```\n",
    "@app.get(\"/import_image\", response_model=ImportImageResponse)\n",
    "def import_image(db: Session = Depends(get_db)):\n",
    "    user_name = os.path.basename(file_path).split('_')[0]\n",
    "    width, height, result_path = get_segmentation_result(file_path, user_name)\n",
    "    \n",
    "    created_dt = datetime.now()\n",
    "\n",
    "    data = schemas.ResultCreate(\n",
    "        user_name=user_name,\n",
    "        ori_image_path=file_path,  # Original image path\n",
    "        mask_image_path=result_path,         # Mask image path\n",
    "        sclera_x=str(width), sclera_y=str(height),  # Sclera center coordinates as strings\n",
    "        cornea_x=str(width), cornea_y=str(width),  # Cornea center coordinates as strings\n",
    "        created_dt=created_dt  # Timestamp\n",
    "    )\n",
    "\n",
    "    # Assuming crud.insert_data properly saves the data to the database\n",
    "    db_item = crud.insert_data(db=db, result_create=data)\n",
    "    \n",
    "    # Return simple confirmation and metrics\n",
    "    return ImportImageResponse(message=\"Item received\", width=float(width), height=float(height))\n",
    "```\n",
    "\n",
    "```get_segmentation_result()``` [link][get_segmentation_result()](https://github.com/kgty0707/Age-related-Macular-Degeneration-AMD-remote-treatment-system/blob/main/AI_SERVER/AI/image_seg.py)\n",
    "<br>\n",
    "주어진 이미지 파일 경로와 사용자 이름을 받아, 이미지에서 동공을 탐지하고 결과 이미지를 저장한 후,<br>\n",
    "각막의 가로 및 세로 길이와 결과 이미지의 경로를 반환합니다.\n",
    "\n",
    "```culculate_lenght()``` [link][culculate_lenght()](https://github.com/kgty0707/Age-related-Macular-Degeneration-AMD-remote-treatment-system/blob/main/AI_SERVER/AI/image_seg.py)\n",
    "<br>\n",
    "바운딩 박스 정보를 받아 동공의 좌표값을 계산하고, 이미지 크기에 비례한 가로 및 세로 길이를 반환합니다.\n",
    "\n",
    "\n",
    "<br>\n",
    "\n",
    "#### **Collision Detection & Force Rendering**\n",
    "\n",
    "```CollisionDetector()``` [link](https://github.com/kgty0707/Age-related-Macular-Degeneration-AMD-remote-treatment-system/blob/main/Unity/Assets/_Course%20Library/Scripts/CollisionDetector.cs) <br>\n",
    "해당 클래스를 통해 충돌을 감지하고 충돌 시 response를 처리합니다. <br>\n",
    "충돌이 감지된 후 색상과 사운드, 기타 효과들을 해당 클래스에서 처리하고 충돌 횟수를 기록합니다.\n",
    "\n",
    "\n",
    "```CollisionForce()``` [link](https://github.com/kgty0707/Age-related-Macular-Degeneration-AMD-remote-treatment-system/blob/main/Unity/Assets/_Course%20Library/Scripts/CollsionForce.cs)<br>\n",
    "오브젝트와 충돌했을 경우 힘을 계산하고 햅틱 장치에서 힘을 느낄 수 있도록 처리합니다. <br>\n",
    "오브젝트의 종류(목표지점, 그 외)에 따라 다른 힘을 계산하여 업데이트합니다."
   ]
  },
  {
   "cell_type": "markdown",
   "metadata": {},
   "source": [
    "---"
   ]
  },
  {
   "cell_type": "markdown",
   "metadata": {
    "jp-MarkdownHeadingCollapsed": true
   },
   "source": [
    "## 🕹️**사용자 메뉴얼**"
   ]
  },
  {
   "attachments": {},
   "cell_type": "markdown",
   "metadata": {},
   "source": [
    "<div style=\"text-align: center;\">\n",
    "    <img src=\"./image/cad1.png\" alt=\"Intro\" style=\"width: 500px; display: inline-block;\"/>\n",
    "    <p style=\"text-align: center;\"><em>Manual 1</em></p>\n",
    "</div>\n",
    "\n",
    "> **1. 사용자가 처음 시뮬레이션을 시작했을 때 다음과 같은 화면을 볼 수 있습니다.** <br>\n",
    "다음과 같은 문구가 뜨고 확인 버튼을 눌러 다음 단계로 진행합니다.\n",
    "\n",
    "<br><br>\n",
    "<div style=\"text-align: center;\">\n",
    "    <img src=\"./image/cad2.png\" alt=\"Intro\" style=\"width: 500px; display: inline-block;\"/>\n",
    "    <p style=\"text-align: center;\"><em>Manual 2</em></p>\n",
    "</div>\n",
    "\n",
    "> **2. 사용자가 시뮬레이션을 시작하기 전에 표시되는 화면입니다.** <br>\n",
    "해당 문구처럼 의자에 앉게 되면 다음 단계로 넘어갑니다.\n",
    "\n",
    "<br><br>\n",
    "<div style=\"text-align: center;\">\n",
    "    <img src=\"./image/cad3.png\" alt=\"Intro\" style=\"width: 500px; display: inline-block;\"/>\n",
    "    <p style=\"text-align: center;\"><em>Manual 3</em></p>\n",
    "</div>\n",
    "\n",
    "> **3. 수술실로 가게 되면 보이는 화면입니다.** <br>\n",
    "수술실에서 시뮬레이션을 진행할 수술에 대한 설명이 나오게 되고 이 설명을 읽고 다음 화면으로 넘어가면 됩니다.\n",
    "\n",
    "<br><br>\n",
    "<div style=\"text-align: center;\">\n",
    "    <img src=\"./image/cad4.png\" alt=\"Intro\" style=\"width: 500px; display: inline-block;\"/>\n",
    "    <p style=\"text-align: center;\"><em>Manual 4</em></p>\n",
    "</div>\n",
    "\n",
    "> **4. 본격적인 시뮬레이션을 진행합니다.**\n",
    "\n",
    "<br><br>\n",
    "<div style=\"text-align: center;\">\n",
    "    <img src=\"./image/cad줌인최대.png\" alt=\"zoom in\" style=\"width: 400px; display: inline-block;\"/>\n",
    "    <img src=\"./image/cad줌아웃최대.png\" alt=\"zoom out\" style=\"width: 400px; display: inline-block;\"/>\n",
    "    <p style=\"text-align: center;\"><em>Manual 5</em></p>\n",
    "</div>\n",
    "\n",
    "> **5. \"Import Patient Data\" 버튼을 클릭하여 환자의 안구 크기 데이터를 가져와서 각막과 공막의 크기를 조정합니다.** <br>\n",
    "데이터를 가져온 후 \"Zoom Out\" 및 \"Zoom In\" 버튼을 사용하여 모델을 조작할 수 있습니다.\n",
    "\n",
    "<br><br>\n",
    "<div style=\"text-align: center;\">\n",
    "    <img src=\"./image/cad목표.png\" alt=\"zoom in\" style=\"width: 400px; display: inline-block;\"/>\n",
    "    <img src=\"./image/cad목표X.png\" alt=\"zoom out\" style=\"width: 400px; display: inline-block;\"/>\n",
    "    <p style=\"text-align: center;\"><em>Manual 7</em></p>\n",
    "</div>\n",
    "\n",
    "> **6. 안구의 공막에 보이는 점(target)에 맞춰 정확하게 주사합니다.** <br>\n",
    "안구의 공막에 보이는 점(target)에 맞게 주사하지 않을 경우 왼쪽 위에 보이는 틀린 횟수가 증가하게 됩니다.<br>\n",
    "틀린 횟수가 15회 이상 증가할 경우 경고가 나타나게 됩니다.\n",
    "\n"
   ]
  },
  {
   "cell_type": "markdown",
   "metadata": {},
   "source": []
  }
 ],
 "metadata": {
  "kernelspec": {
   "display_name": "Python 3 (ipykernel)",
   "language": "python",
   "name": "python3"
  },
  "language_info": {
   "codemirror_mode": {
    "name": "ipython",
    "version": 3
   },
   "file_extension": ".py",
   "mimetype": "text/x-python",
   "name": "python",
   "nbconvert_exporter": "python",
   "pygments_lexer": "ipython3",
   "version": "3.9.19"
  }
 },
 "nbformat": 4,
 "nbformat_minor": 4
}
