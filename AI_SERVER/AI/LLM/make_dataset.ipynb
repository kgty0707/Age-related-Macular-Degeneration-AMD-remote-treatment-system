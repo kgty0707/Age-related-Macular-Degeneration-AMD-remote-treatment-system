{
 "cells": [
  {
   "cell_type": "code",
   "execution_count": null,
   "id": "a94fd770-14c9-4459-bacb-c9a79a2e77ab",
   "metadata": {},
   "outputs": [],
   "source": []
  },
  {
   "cell_type": "code",
   "execution_count": null,
   "id": "45f67a50-72d7-4034-bdd2-d4213eabfebb",
   "metadata": {},
   "outputs": [],
   "source": []
  },
  {
   "cell_type": "code",
   "execution_count": null,
   "id": "689fa62b-89d2-4a0a-8cf9-0de9f2f43e12",
   "metadata": {},
   "outputs": [],
   "source": []
  },
  {
   "cell_type": "code",
   "execution_count": null,
   "id": "6469d83e-ffe1-49df-9b59-b1963e923efa",
   "metadata": {},
   "outputs": [],
   "source": []
  },
  {
   "cell_type": "code",
   "execution_count": null,
   "id": "3183359f-4677-4810-84fb-788b6eaf1944",
   "metadata": {},
   "outputs": [],
   "source": []
  },
  {
   "cell_type": "code",
   "execution_count": null,
   "id": "e7a6f444-586a-43ef-bfb4-27e8af553ef8",
   "metadata": {},
   "outputs": [],
   "source": []
  },
  {
   "cell_type": "code",
   "execution_count": 14,
   "id": "343b359b-8ec5-45fb-ba85-009593bd9eb1",
   "metadata": {},
   "outputs": [],
   "source": [
    "import pandas as pd\n",
    "import os\n",
    "import re"
   ]
  },
  {
   "cell_type": "code",
   "execution_count": null,
   "id": "d4ee8deb-4efe-40ee-a15c-e12d906228c5",
   "metadata": {},
   "outputs": [],
   "source": [
    "import re\n",
    "\n",
    "punct = \"/-'?!.,#$%\\'()*+-/:;<=>@[\\\\]^_`{|}~\" + '\"\"“”’' + '∞θ÷α•à−β∅³π‘₹´°£€\\×™√²—–&'\n",
    "punct_mapping = {\"‘\": \"'\", \"₹\": \"e\", \"´\": \"'\", \"°\": \"\", \"€\": \"e\", \"™\": \"tm\", \"√\": \" sqrt \", \"×\": \"x\", \"²\": \"2\", \"—\": \"-\", \"–\": \"-\", \"’\": \"'\", \"_\": \"-\", \"`\": \"'\", '“': '\"', '”': '\"', '“': '\"', \"£\": \"e\", '∞': 'infinity', 'θ': 'theta', '÷': '/', 'α': 'alpha', '•': '.', 'à': 'a', '−': '-', 'β': 'beta', '∅': '', '³': '3', 'π': 'pi', }\n",
    "    \n",
    "def clean_kr_text(texts, punct, mapping):\n",
    "    for text in texts:\n",
    "        for p in mapping:\t# 특수부호 mapping\n",
    "            text = text.replace(p, mapping[p])\n",
    "        \n",
    "        for p in punct:\t\t# 특수부호 제거\n",
    "            text = text.replace(p, '')\n",
    "\t\t\n",
    "        text = re.sub(r'<[^>]+>', '', text) \t  # remove Html tags\n",
    "        text = re.sub(r''([a-zA-Z0-9_.+-]+@[a-zA-Z0-9-]+\\.[a-zA-Z0-9-.]+)'', '', text) \t  # remove e-mail\n",
    "         text = re.sub(r'(http|ftp|https)://(?:[-\\w.]|(?:%[\\da-fA-F]{2}))+', ' ', text)\t  # remove URL  \n",
    "        text = re.sub(r'\\s+', ' ', text)\t\t  # Remove extra space\n",
    "        text = re.sub('([ㄱ-ㅎㅏ-ㅣ]+)', '', text)\t# Remove 한글 자음, 모음\n",
    "        text = re.sub('[^\\w\\s\\n]', '', text)\t  # Remove 특수기호\n",
    "    \n",
    "    return texts"
   ]
  },
  {
   "cell_type": "code",
   "execution_count": 15,
   "id": "b5638b6a-34b7-4db1-8653-9811aab025e9",
   "metadata": {},
   "outputs": [],
   "source": [
    "def clean_kr_text(text):\n",
    "    # 한국어 외 문자 제거\n",
    "    text = re.sub(r\"[^가-힣\\s]\", \"\", text)\n",
    "    # 연속된 공백 제거\n",
    "    text = re.sub(r'\\s+', ' ', text)\n",
    "    # 앞뒤 공백 제거\n",
    "    text = text.strip()\n",
    "    return text"
   ]
  },
  {
   "cell_type": "code",
   "execution_count": 20,
   "id": "0911876c-49ea-485c-9a72-0e9c093ed76f",
   "metadata": {},
   "outputs": [],
   "source": [
    "def clean_en_text(s):\n",
    "    s = str(s)\n",
    "    s = re.sub('\\s\\W',' ',s)\n",
    "    s = re.sub('\\W,\\s',' ',s)\n",
    "    s = re.sub(\"\\d+\", \"\", s)\n",
    "    s = re.sub('\\s+',' ',s)\n",
    "    s = re.sub('[!@#$_]', '', s)\n",
    "    s = s.replace(\"co\",\"\")\n",
    "    s = s.replace(\"https\",\"\")\n",
    "    s = s.replace(\"[\\w*\",\" \")\n",
    "    return s"
   ]
  },
  {
   "cell_type": "code",
   "execution_count": 21,
   "id": "48e2eaa4-d6bb-41e2-b0b2-9ce2acbaece3",
   "metadata": {},
   "outputs": [],
   "source": [
    "directory = './data/translate_dataset'  # Excel 파일이 있는 폴더 경로\n",
    "output_file_path = './data/translate_dataset/translate_data.txt'  # 최종 파일 경로"
   ]
  },
  {
   "cell_type": "code",
   "execution_count": 22,
   "id": "9d840ad5-917a-49c3-b444-0a5402f85e50",
   "metadata": {},
   "outputs": [
    {
     "name": "stdout",
     "output_type": "stream",
     "text": [
      "{'encoding': None, 'confidence': 0.0, 'language': None}\n"
     ]
    }
   ],
   "source": [
    "import chardet\n",
    "\n",
    "with open('./data/translate_dataset/1_casual_data.xlsx', 'rb') as rawdata:\n",
    "    result = chardet.detect(rawdata.read(10000))\n",
    "\n",
    "# check what the character encoding might be\n",
    "print(result)"
   ]
  },
  {
   "cell_type": "code",
   "execution_count": 23,
   "id": "396b1458-0ac6-44f7-9304-8658b5dbf994",
   "metadata": {},
   "outputs": [
    {
     "name": "stderr",
     "output_type": "stream",
     "text": [
      "C:\\Users\\kgty\\anaconda3\\envs\\gpu\\lib\\site-packages\\openpyxl\\styles\\stylesheet.py:226: UserWarning: Workbook contains no default style, apply openpyxl's default\n",
      "  warn(\"Workbook contains no default style, apply openpyxl's default\")\n",
      "C:\\Users\\kgty\\anaconda3\\envs\\gpu\\lib\\site-packages\\openpyxl\\styles\\stylesheet.py:226: UserWarning: Workbook contains no default style, apply openpyxl's default\n",
      "  warn(\"Workbook contains no default style, apply openpyxl's default\")\n",
      "C:\\Users\\kgty\\anaconda3\\envs\\gpu\\lib\\site-packages\\openpyxl\\styles\\stylesheet.py:226: UserWarning: Workbook contains no default style, apply openpyxl's default\n",
      "  warn(\"Workbook contains no default style, apply openpyxl's default\")\n",
      "C:\\Users\\kgty\\anaconda3\\envs\\gpu\\lib\\site-packages\\openpyxl\\styles\\stylesheet.py:226: UserWarning: Workbook contains no default style, apply openpyxl's default\n",
      "  warn(\"Workbook contains no default style, apply openpyxl's default\")\n"
     ]
    }
   ],
   "source": [
    "with open(output_file_path, 'w', encoding='utf-8') as text_data:\n",
    "    for filename in os.listdir(directory):\n",
    "        if filename.endswith('.xlsx') or filename.endswith('.xls'):\n",
    "            file_path = os.path.join(directory, filename)\n",
    "            df = pd.read_excel(file_path)\n",
    "            df = df.dropna()  # 결측치 제거\n",
    "            for idx, item in df.iterrows():\n",
    "                kr_data = clean_kr_text(item[\"원문\"], punct, punct_mapping)\n",
    "                en_data = clean_en_text(item[\"번역문\"])\n",
    "                text_data.write(f\"{kr_data} ||| {en_data}\\n\")  # 데이터 쓰기"
   ]
  },
  {
   "cell_type": "code",
   "execution_count": 24,
   "id": "e2d87938-1414-4fcc-bb53-ec71b97111cc",
   "metadata": {},
   "outputs": [
    {
     "name": "stdout",
     "output_type": "stream",
     "text": [
      "은 성경의 아름다운 이야기를 체험 할 수 있는 컬러링 앱입니다 ||| Bible Coloring' is a loring application that allows you to experience beautiful stories in the Bible.\n",
      "씨티은행에서 일하세요 ||| Do you work at a City bank?\n",
      "푸리토의 베스트셀러는 해외에서 입소문만으로 차 완판을 기록하였다 ||| PURITO's bestseller, which rerded th rough cuts by words of mouth from abroad.\n",
      "장에서는 예수님이 이번엔 나사로를 무덤에서 불러내어 죽은 자 가운데서 살리셨습니다 ||| In Chapter Jesus called Lazarus from the tomb and raised him from the dead.\n",
      "사이즈가 몇 개나 더 재입고 될지 제게 알려주시면 감사하겠습니다 ||| I would feel grateful to know how many stocks will be secured of size ., , and .\n"
     ]
    }
   ],
   "source": [
    "# 파일 경로 설정\n",
    "file_path = './data/translate_dataset/translate_data.txt'\n",
    "\n",
    "# 파일을 읽기 모드로 열기\n",
    "with open(file_path, 'r', encoding='utf-8') as file:\n",
    "    # 첫 5줄만 읽고 출력\n",
    "    for i in range(5):\n",
    "        line = file.readline()\n",
    "        print(line.strip())  # strip()를 사용하여 끝의 줄바꿈 문자 제거"
   ]
  },
  {
   "cell_type": "code",
   "execution_count": null,
   "id": "0fe32f9e-091d-417b-919e-30a6f9026c1d",
   "metadata": {},
   "outputs": [],
   "source": []
  },
  {
   "cell_type": "code",
   "execution_count": null,
   "id": "b4574e73-100c-44ec-8598-0eb43a2a555b",
   "metadata": {},
   "outputs": [],
   "source": []
  },
  {
   "cell_type": "code",
   "execution_count": null,
   "id": "7952c7f7-4f92-432a-b8c0-8dc26ff86e51",
   "metadata": {},
   "outputs": [],
   "source": []
  },
  {
   "cell_type": "code",
   "execution_count": null,
   "id": "7e111182-6f57-438c-93c9-3f59f4498b03",
   "metadata": {},
   "outputs": [],
   "source": []
  },
  {
   "cell_type": "code",
   "execution_count": null,
   "id": "62e275a1-280a-4139-87cc-d5f55ede9f4a",
   "metadata": {},
   "outputs": [],
   "source": []
  }
 ],
 "metadata": {
  "kernelspec": {
   "display_name": "cuda_env",
   "language": "python",
   "name": "gpu"
  },
  "language_info": {
   "codemirror_mode": {
    "name": "ipython",
    "version": 3
   },
   "file_extension": ".py",
   "mimetype": "text/x-python",
   "name": "python",
   "nbconvert_exporter": "python",
   "pygments_lexer": "ipython3",
   "version": "3.10.14"
  }
 },
 "nbformat": 4,
 "nbformat_minor": 5
}
